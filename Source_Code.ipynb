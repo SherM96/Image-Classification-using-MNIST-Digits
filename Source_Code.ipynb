{
 "cells": [
  {
   "cell_type": "code",
   "execution_count": 3,
   "metadata": {
    "id": "TIqOSvDYiLv8"
   },
   "outputs": [],
   "source": [
    "import tensorflow as tf\n",
    "import pandas as pd\n",
    "import numpy as np\n",
    "import matplotlib.pyplot as plt\n",
    "\n",
    "from keras.utils import to_categorical\n",
    "from keras.models import Sequential\n",
    "from keras.layers import Dense, Activation\n",
    "from keras.optimizers import SGD\n",
    "from keras.optimizers import Adam\n",
    "from tensorflow.keras.layers import Dense, Dropout\n",
    "import time\n",
    "import cv2"
   ]
  },
  {
   "cell_type": "code",
   "execution_count": 5,
   "metadata": {
    "colab": {
     "base_uri": "https://localhost:8080/"
    },
    "id": "qxfEVF5ojVG6",
    "outputId": "2c6633cd-25b8-472c-8e58-d839e15282df"
   },
   "outputs": [],
   "source": [
    "(X_train,y_train), (X_test,y_test) = tf.keras.datasets.mnist.load_data()"
   ]
  },
  {
   "cell_type": "code",
   "execution_count": 7,
   "metadata": {
    "colab": {
     "base_uri": "https://localhost:8080/"
    },
    "id": "pl-28OG7jVbg",
    "outputId": "bb42e8d2-ca21-41c4-e9e6-b12def903627"
   },
   "outputs": [
    {
     "name": "stdout",
     "output_type": "stream",
     "text": [
      "60000\n",
      "(28, 28)\n",
      "60000\n"
     ]
    }
   ],
   "source": [
    "X_train.shape[0]\n",
    "print(X_train.shape[0])\n",
    "print(X_train.shape[1:])\n",
    "print(y_train.shape[0])"
   ]
  },
  {
   "cell_type": "code",
   "execution_count": 9,
   "metadata": {
    "colab": {
     "base_uri": "https://localhost:8080/",
     "height": 447
    },
    "id": "EFjh1q8UjVi5",
    "outputId": "3c22fe93-fb35-4e9d-fad4-38e1361c9fd2"
   },
   "outputs": [
    {
     "data": {
      "text/plain": [
       "<matplotlib.image.AxesImage at 0x18658582380>"
      ]
     },
     "execution_count": 9,
     "metadata": {},
     "output_type": "execute_result"
    },
    {
     "data": {
      "image/png": "[encoded data removed]",
      "text/plain": [
       "<Figure size 640x480 with 1 Axes>"
      ]
     },
     "metadata": {},
     "output_type": "display_data"
    }
   ],
   "source": [
    "plt.imshow(X_train[0], cmap=plt.get_cmap(\"gray\"))"
   ]
  },
  {
   "cell_type": "code",
   "execution_count": 11,
   "metadata": {
    "id": "uG4Gq678jVpa"
   },
   "outputs": [],
   "source": [
    "X_train = X_train.reshape((X_train.shape[0], -1))\n",
    "X_test = X_test.reshape((X_test.shape[0],-1))\n",
    "\n",
    "X_train = X_train.astype(\"float32\")\n",
    "X_test = X_test.astype(\"float32\")"
   ]
  },
  {
   "cell_type": "code",
   "execution_count": 13,
   "metadata": {
    "id": "wOkzzEvu3wKq"
   },
   "outputs": [],
   "source": [
    "X_train = X_train/255\n",
    "X_test = X_test/255"
   ]
  },
  {
   "cell_type": "code",
   "execution_count": 15,
   "metadata": {
    "colab": {
     "base_uri": "https://localhost:8080/"
    },
    "id": "Jxdu7WTb3wMx",
    "outputId": "fc6f92d0-fb37-498d-f851-136e3c3d0d5b"
   },
   "outputs": [
    {
     "data": {
      "text/plain": [
       "784"
      ]
     },
     "execution_count": 15,
     "metadata": {},
     "output_type": "execute_result"
    }
   ],
   "source": [
    "len(X_train[0])"
   ]
  },
  {
   "cell_type": "code",
   "execution_count": 17,
   "metadata": {
    "colab": {
     "base_uri": "https://localhost:8080/"
    },
    "id": "wdHt9jQQ3wRA",
    "outputId": "936ef7f4-dedc-4664-d8c4-e532b09ec9ac"
   },
   "outputs": [
    {
     "data": {
      "text/plain": [
       "array([5, 0, 4, ..., 5, 6, 8], dtype=uint8)"
      ]
     },
     "execution_count": 17,
     "metadata": {},
     "output_type": "execute_result"
    }
   ],
   "source": [
    "y_train"
   ]
  },
  {
   "cell_type": "code",
   "execution_count": 19,
   "metadata": {
    "id": "BezIgZtd3wPD"
   },
   "outputs": [],
   "source": [
    "from keras import utils as npo_utils\n",
    "\n",
    "y_train = npo_utils.to_categorical(y_train)\n",
    "y_test = npo_utils.to_categorical(y_test)"
   ]
  },
  {
   "cell_type": "code",
   "execution_count": 21,
   "metadata": {
    "colab": {
     "base_uri": "https://localhost:8080/"
    },
    "id": "1e2x2Mnm3wTM",
    "outputId": "02b20c1d-2f59-4600-b083-d35cc33be230"
   },
   "outputs": [
    {
     "data": {
      "text/plain": [
       "array([[0., 0., 0., ..., 0., 0., 0.],\n",
       "       [1., 0., 0., ..., 0., 0., 0.],\n",
       "       [0., 0., 0., ..., 0., 0., 0.],\n",
       "       ...,\n",
       "       [0., 0., 0., ..., 0., 0., 0.],\n",
       "       [0., 0., 0., ..., 0., 0., 0.],\n",
       "       [0., 0., 0., ..., 0., 1., 0.]], dtype=float32)"
      ]
     },
     "execution_count": 21,
     "metadata": {},
     "output_type": "execute_result"
    }
   ],
   "source": [
    "y_train"
   ]
  },
  {
   "cell_type": "code",
   "execution_count": 23,
   "metadata": {
    "colab": {
     "base_uri": "https://localhost:8080/"
    },
    "id": "zTviTtHa3wXW",
    "outputId": "8746d984-1be7-46d3-b43e-e6af1241d812"
   },
   "outputs": [
    {
     "name": "stdout",
     "output_type": "stream",
     "text": [
      "10\n"
     ]
    }
   ],
   "source": [
    "num_classes = y_test.shape[1]\n",
    "num_pixels = 784\n",
    "print(num_classes)"
   ]
  },
  {
   "cell_type": "code",
   "execution_count": 25,
   "metadata": {
    "id": "vF5Ea0gt3wZk"
   },
   "outputs": [],
   "source": [
    "def  baseline_model_1():\n",
    "  model = Sequential()\n",
    "  model.add(Dense(512, input_dim = num_pixels, activation = \"relu\"))\n",
    "  model.add(Dropout(0.2))\n",
    "  # model.add(Dense(256, activation = \"relu\"))\n",
    "  # model.add(Dropout(0.2))\n",
    "  model.add(Dense(num_classes, activation = \"softmax\"))\n",
    "\n",
    "  return model"
   ]
  },
  {
   "cell_type": "code",
   "execution_count": 27,
   "metadata": {},
   "outputs": [],
   "source": [
    "def  baseline_model_2():\n",
    "  model = Sequential()\n",
    "  model.add(Dense(512, input_dim = num_pixels, activation = \"tanh\"))\n",
    "  model.add(Dropout(0.2))\n",
    "  # model.add(Dense(256, activation = \"tanh\"))\n",
    "  # model.add(Dropout(0.2))\n",
    "  model.add(Dense(num_classes, activation = \"softmax\"))\n",
    "\n",
    "  return model"
   ]
  },
  {
   "cell_type": "code",
   "execution_count": null,
   "metadata": {
    "colab": {
     "base_uri": "https://localhost:8080/"
    },
    "id": "RGc2vY9Z3wbs",
    "outputId": "ba50f627-d93a-48ff-8482-1be46967ec2f"
   },
   "outputs": [],
   "source": [
    "model_1 = baseline_model_1()\n",
    "model_2 = baseline_model_2()\n",
    "# model.summary()"
   ]
  },
  {
   "cell_type": "code",
   "execution_count": null,
   "metadata": {
    "id": "5x_ab_C3zlte"
   },
   "outputs": [],
   "source": [
    "opt = Adam(learning_rate = 0.001)\n",
    "model.compile(loss = \"categorical_crossentropy\", optimizer = opt, metrics = [\"accuracy\"])"
   ]
  },
  {
   "cell_type": "code",
   "execution_count": null,
   "metadata": {
    "id": "rGJFxMVPpe5J"
   },
   "outputs": [],
   "source": [
    "# Load and preprocess the custom image for prediction\n",
    "def preprocess_custom_image(image_path):\n",
    "    # Read and preprocess the image\n",
    "    image = cv2.imread(image_path, cv2.IMREAD_GRAYSCALE)  # Load as grayscale\n",
    "    image = cv2.resize(image, (28, 28))  # Resize to 28x28\n",
    "    image = cv2.bitwise_not(image)  # Invert colors if the background is black and digit is white\n",
    "    image = image.astype(\"float32\") / 255  # Normalize pixel values\n",
    "    image = image.reshape((1, -1))  # Flatten and reshape for model input\n",
    "    return image"
   ]
  },
  {
   "cell_type": "code",
   "execution_count": null,
   "metadata": {
    "colab": {
     "base_uri": "https://localhost:8080/"
    },
    "id": "gI8tGFzY18kU",
    "outputId": "c23492b6-9711-4a04-f18d-ecdb9395cf9d"
   },
   "outputs": [],
   "source": [
    "start_time = time.time()\n",
    "\n",
    "model_1.fit(X_train, y_train, epochs = 20, batch_size = 32, verbose = 1)\n",
    "score = model.evaluate(X_test,y_test, verbose =1)\n",
    "\n",
    "\n",
    "for i in range(10**6):\n",
    "    _ = i**2\n",
    "end_time = time.time()\n",
    "runtime = end_time - start_time\n",
    "\n",
    "print(\"Error: %.2f%%\" % (100-score[1]*100))\n",
    "print(\"Accuracy: %.2f%%\" % (score[1]*100))\n",
    "print(f\"Runtime: {runtime:.6f} seconds\")"
   ]
  },
  {
   "cell_type": "code",
   "execution_count": null,
   "metadata": {},
   "outputs": [],
   "source": [
    "start_time = time.time()\n",
    "\n",
    "model_2.fit(X_train, y_train, epochs = 20, batch_size = 32, verbose = 1)\n",
    "score = model.evaluate(X_test,y_test, verbose =1)\n",
    "\n",
    "\n",
    "for i in range(10**6):\n",
    "    _ = i**2\n",
    "end_time = time.time()\n",
    "runtime = end_time - start_time\n",
    "\n",
    "print(\"Error: %.2f%%\" % (100-score[1]*100))\n",
    "print(\"Accuracy: %.2f%%\" % (score[1]*100))\n",
    "print(f\"Runtime: {runtime:.6f} seconds\")"
   ]
  },
  {
   "cell_type": "code",
   "execution_count": null,
   "metadata": {},
   "outputs": [],
   "source": [
    "# SCENARIO_1\n",
    "#Predict the uploaded image\n",
    "image_path = \"8.jpeg\"\n",
    "processed_image = preprocess_custom_image(image_path)\n",
    "preds = model.predict(processed_image)\n",
    "predicted_digit = np.argmax(preds, axis=1)\n",
    "\n",
    "# Display the processed image and prediction result\n",
    "plt.imshow(processed_image.reshape((28, 28)), cmap=\"gray\")\n",
    "plt.title(f\"Predicted Digit: {predicted_digit[0]}\")\n",
    "plt.axis(\"off\")\n",
    "plt.show()\n",
    "\n",
    "print(\"Predicted Probabilities:\", preds[0])\n",
    "print(\"Predicted Digit:\", predicted_digit[0])"
   ]
  },
  {
   "cell_type": "code",
   "execution_count": null,
   "metadata": {},
   "outputs": [],
   "source": [
    "# SCENARIO_2\n",
    " #Predict the uploaded image\n",
    "image_path = \"8.jpeg\"\n",
    "processed_image = preprocess_custom_image(image_path)\n",
    "preds = model.predict(processed_image)\n",
    "predicted_digit = np.argmax(preds, axis=1)\n",
    "\n",
    "# Display the processed image and prediction result\n",
    "plt.imshow(processed_image.reshape((28, 28)), cmap=\"gray\")\n",
    "plt.title(f\"Predicted Digit: {predicted_digit[0]}\")\n",
    "plt.axis(\"off\")\n",
    "plt.show()\n",
    "\n",
    "print(\"Predicted Probabilities:\", preds[0])\n",
    "print(\"Predicted Digit:\", predicted_digit[0])"
   ]
  },
  {
   "cell_type": "code",
   "execution_count": null,
   "metadata": {},
   "outputs": [],
   "source": [
    "# SCENARIO_3\n",
    " #Predict the uploaded image\n",
    "image_path = \"8.jpeg\"\n",
    "processed_image = preprocess_custom_image(image_path)\n",
    "preds = model_2.predict(processed_image)\n",
    "predicted_digit = np.argmax(preds, axis=1)\n",
    "\n",
    "# Display the processed image and prediction result\n",
    "plt.imshow(processed_image.reshape((28, 28)), cmap=\"gray\")\n",
    "plt.title(f\"Predicted Digit: {predicted_digit[0]}\")\n",
    "plt.axis(\"off\")\n",
    "plt.show()\n",
    "\n",
    "print(\"Predicted Probabilities:\", preds[0])\n",
    "print(\"Predicted Digit:\", predicted_digit[0])"
   ]
  },
  {
   "cell_type": "code",
   "execution_count": null,
   "metadata": {},
   "outputs": [],
   "source": [
    "# SCENARIO_4\n",
    " #Predict the uploaded image\n",
    "image_path = \"8.jpeg\"\n",
    "processed_image = preprocess_custom_image(image_path)\n",
    "preds = model_2.predict(processed_image)\n",
    "predicted_digit = np.argmax(preds, axis=1)\n",
    "\n",
    "# Display the processed image and prediction result\n",
    "plt.imshow(processed_image.reshape((28, 28)), cmap=\"gray\")\n",
    "plt.title(f\"Predicted Digit: {predicted_digit[0]}\")\n",
    "plt.axis(\"off\")\n",
    "plt.show()\n",
    "\n",
    "print(\"Predicted Probabilities:\", preds[0])\n",
    "print(\"Predicted Digit:\", predicted_digit[0])"
   ]
  },
  {
   "cell_type": "code",
   "execution_count": null,
   "metadata": {},
   "outputs": [],
   "source": [
    "# SCENARIO_5\n",
    " #Predict the uploaded image\n",
    "image_path = \"8.jpeg\"\n",
    "processed_image = preprocess_custom_image(image_path)\n",
    "preds = model_3.predict(processed_image)\n",
    "predicted_digit = np.argmax(preds, axis=1)\n",
    "\n",
    "# Display the processed image and prediction result\n",
    "plt.imshow(processed_image.reshape((28, 28)), cmap=\"gray\")\n",
    "plt.title(f\"Predicted Digit: {predicted_digit[0]}\")\n",
    "plt.axis(\"off\")\n",
    "plt.show()\n",
    "\n",
    "print(\"Predicted Probabilities:\", preds[0])\n",
    "print(\"Predicted Digit:\", predicted_digit[0])"
   ]
  },
  {
   "cell_type": "code",
   "execution_count": null,
   "metadata": {},
   "outputs": [],
   "source": [
    "# SCENARIO_6\n",
    " #Predict the uploaded image\n",
    "image_path = \"8.jpeg\"\n",
    "processed_image = preprocess_custom_image(image_path)\n",
    "preds = model_3.predict(processed_image)\n",
    "predicted_digit = np.argmax(preds, axis=1)\n",
    "\n",
    "# Display the processed image and prediction result\n",
    "plt.imshow(processed_image.reshape((28, 28)), cmap=\"gray\")\n",
    "plt.title(f\"Predicted Digit: {predicted_digit[0]}\")\n",
    "plt.axis(\"off\")\n",
    "plt.show()\n",
    "\n",
    "print(\"Predicted Probabilities:\", preds[0])\n",
    "print(\"Predicted Digit:\", predicted_digit[0])"
   ]
  },
  {
   "cell_type": "code",
   "execution_count": null,
   "metadata": {},
   "outputs": [],
   "source": [
    "# SCENARIO_7\n",
    " #Predict the uploaded image\n",
    "image_path = \"8.jpeg\"\n",
    "processed_image = preprocess_custom_image(image_path)\n",
    "preds = model_4.predict(processed_image)\n",
    "predicted_digit = np.argmax(preds, axis=1)\n",
    "\n",
    "# Display the processed image and prediction result\n",
    "plt.imshow(processed_image.reshape((28, 28)), cmap=\"gray\")\n",
    "plt.title(f\"Predicted Digit: {predicted_digit[0]}\")\n",
    "plt.axis(\"off\")\n",
    "plt.show()\n",
    "\n",
    "print(\"Predicted Probabilities:\", preds[0])\n",
    "print(\"Predicted Digit:\", predicted_digit[0])"
   ]
  },
  {
   "cell_type": "code",
   "execution_count": null,
   "metadata": {},
   "outputs": [],
   "source": [
    "# SCENARIO_8\n",
    " #Predict the uploaded image\n",
    "image_path = \"8.jpeg\"\n",
    "processed_image = preprocess_custom_image(image_path)\n",
    "preds = model_4.predict(processed_image)\n",
    "predicted_digit = np.argmax(preds, axis=1)\n",
    "\n",
    "# Display the processed image and prediction result\n",
    "plt.imshow(processed_image.reshape((28, 28)), cmap=\"gray\")\n",
    "plt.title(f\"Predicted Digit: {predicted_digit[0]}\")\n",
    "plt.axis(\"off\")\n",
    "plt.show()\n",
    "\n",
    "print(\"Predicted Probabilities:\", preds[0])\n",
    "print(\"Predicted Digit:\", predicted_digit[0])"
   ]
  },
  {
   "cell_type": "code",
   "execution_count": null,
   "metadata": {},
   "outputs": [],
   "source": [
    "# SCENARIO_9\n",
    " #Predict the uploaded image\n",
    "image_path = \"8.jpeg\"\n",
    "processed_image = preprocess_custom_image(image_path)\n",
    "preds = model_5.predict(processed_image)\n",
    "predicted_digit = np.argmax(preds, axis=1)\n",
    "\n",
    "# Display the processed image and prediction result\n",
    "plt.imshow(processed_image.reshape((28, 28)), cmap=\"gray\")\n",
    "plt.title(f\"Predicted Digit: {predicted_digit[0]}\")\n",
    "plt.axis(\"off\")\n",
    "plt.show()\n",
    "\n",
    "print(\"Predicted Probabilities:\", preds[0])\n",
    "print(\"Predicted Digit:\", predicted_digit[0])"
   ]
  },
  {
   "cell_type": "code",
   "execution_count": null,
   "metadata": {},
   "outputs": [],
   "source": [
    "# SCENARIO_10\n",
    " #Predict the uploaded image\n",
    "image_path = \"8.jpeg\"\n",
    "processed_image = preprocess_custom_image(image_path)\n",
    "preds = model_5.predict(processed_image)\n",
    "predicted_digit = np.argmax(preds, axis=1)\n",
    "\n",
    "# Display the processed image and prediction result\n",
    "plt.imshow(processed_image.reshape((28, 28)), cmap=\"gray\")\n",
    "plt.title(f\"Predicted Digit: {predicted_digit[0]}\")\n",
    "plt.axis(\"off\")\n",
    "plt.show()\n",
    "\n",
    "print(\"Predicted Probabilities:\", preds[0])\n",
    "print(\"Predicted Digit:\", predicted_digit[0])"
   ]
  },
  {
   "cell_type": "code",
   "execution_count": null,
   "metadata": {},
   "outputs": [],
   "source": [
    "# SCENARIO_11\n",
    " #Predict the uploaded image\n",
    "image_path = \"8.jpeg\"\n",
    "processed_image = preprocess_custom_image(image_path)\n",
    "preds = model_6.predict(processed_image)\n",
    "predicted_digit = np.argmax(preds, axis=1)\n",
    "\n",
    "# Display the processed image and prediction result\n",
    "plt.imshow(processed_image.reshape((28, 28)), cmap=\"gray\")\n",
    "plt.title(f\"Predicted Digit: {predicted_digit[0]}\")\n",
    "plt.axis(\"off\")\n",
    "plt.show()\n",
    "\n",
    "print(\"Predicted Probabilities:\", preds[0])\n",
    "print(\"Predicted Digit:\", predicted_digit[0])"
   ]
  },
  {
   "cell_type": "code",
   "execution_count": null,
   "metadata": {},
   "outputs": [],
   "source": [
    "# SCENARIO_12\n",
    " #Predict the uploaded image\n",
    "image_path = \"8.jpeg\"\n",
    "processed_image = preprocess_custom_image(image_path)\n",
    "preds = model_6.predict(processed_image)\n",
    "predicted_digit = np.argmax(preds, axis=1)\n",
    "\n",
    "# Display the processed image and prediction result\n",
    "plt.imshow(processed_image.reshape((28, 28)), cmap=\"gray\")\n",
    "plt.title(f\"Predicted Digit: {predicted_digit[0]}\")\n",
    "plt.axis(\"off\")\n",
    "plt.show()\n",
    "\n",
    "print(\"Predicted Probabilities:\", preds[0])\n",
    "print(\"Predicted Digit:\", predicted_digit[0])"
   ]
  },
  {
   "cell_type": "code",
   "execution_count": null,
   "metadata": {},
   "outputs": [],
   "source": [
    "# SCENARIO_13\n",
    " #Predict the uploaded image\n",
    "image_path = \"8.jpeg\"\n",
    "processed_image = preprocess_custom_image(image_path)\n",
    "preds = model_7.predict(processed_image)\n",
    "predicted_digit = np.argmax(preds, axis=1)\n",
    "\n",
    "# Display the processed image and prediction result\n",
    "plt.imshow(processed_image.reshape((28, 28)), cmap=\"gray\")\n",
    "plt.title(f\"Predicted Digit: {predicted_digit[0]}\")\n",
    "plt.axis(\"off\")\n",
    "plt.show()\n",
    "\n",
    "print(\"Predicted Probabilities:\", preds[0])\n",
    "print(\"Predicted Digit:\", predicted_digit[0])"
   ]
  },
  {
   "cell_type": "code",
   "execution_count": null,
   "metadata": {},
   "outputs": [],
   "source": [
    "# SCENARIO_14\n",
    " #Predict the uploaded image\n",
    "image_path = \"8.jpeg\"\n",
    "processed_image = preprocess_custom_image(image_path)\n",
    "preds = model_7.predict(processed_image)\n",
    "predicted_digit = np.argmax(preds, axis=1)\n",
    "\n",
    "# Display the processed image and prediction result\n",
    "plt.imshow(processed_image.reshape((28, 28)), cmap=\"gray\")\n",
    "plt.title(f\"Predicted Digit: {predicted_digit[0]}\")\n",
    "plt.axis(\"off\")\n",
    "plt.show()\n",
    "\n",
    "print(\"Predicted Probabilities:\", preds[0])\n",
    "print(\"Predicted Digit:\", predicted_digit[0])"
   ]
  },
  {
   "cell_type": "code",
   "execution_count": null,
   "metadata": {},
   "outputs": [],
   "source": [
    "# SCENARIO_15\n",
    " #Predict the uploaded image\n",
    "image_path = \"8.jpeg\"\n",
    "processed_image = preprocess_custom_image(image_path)\n",
    "preds = model_8.predict(processed_image)\n",
    "predicted_digit = np.argmax(preds, axis=1)\n",
    "\n",
    "# Display the processed image and prediction result\n",
    "plt.imshow(processed_image.reshape((28, 28)), cmap=\"gray\")\n",
    "plt.title(f\"Predicted Digit: {predicted_digit[0]}\")\n",
    "plt.axis(\"off\")\n",
    "plt.show()\n",
    "\n",
    "print(\"Predicted Probabilities:\", preds[0])\n",
    "print(\"Predicted Digit:\", predicted_digit[0])"
   ]
  },
  {
   "cell_type": "code",
   "execution_count": null,
   "metadata": {},
   "outputs": [],
   "source": [
    "# SCENARIO_16\n",
    " #Predict the uploaded image\n",
    "image_path = \"8.jpeg\"\n",
    "processed_image = preprocess_custom_image(image_path)\n",
    "preds = model_8.predict(processed_image)\n",
    "predicted_digit = np.argmax(preds, axis=1)\n",
    "\n",
    "# Display the processed image and prediction result\n",
    "plt.imshow(processed_image.reshape((28, 28)), cmap=\"gray\")\n",
    "plt.title(f\"Predicted Digit: {predicted_digit[0]}\")\n",
    "plt.axis(\"off\")\n",
    "plt.show()\n",
    "\n",
    "print(\"Predicted Probabilities:\", preds[0])\n",
    "print(\"Predicted Digit:\", predicted_digit[0])"
   ]
  },
  {
   "cell_type": "code",
   "execution_count": null,
   "metadata": {},
   "outputs": [],
   "source": [
    "# SCENARIO_17\n",
    " #Predict the uploaded image\n",
    "image_path = \"8.jpeg\"\n",
    "processed_image = preprocess_custom_image(image_path)\n",
    "preds = model_9.predict(processed_image)\n",
    "predicted_digit = np.argmax(preds, axis=1)\n",
    "\n",
    "# Display the processed image and prediction result\n",
    "plt.imshow(processed_image.reshape((28, 28)), cmap=\"gray\")\n",
    "plt.title(f\"Predicted Digit: {predicted_digit[0]}\")\n",
    "plt.axis(\"off\")\n",
    "plt.show()\n",
    "\n",
    "print(\"Predicted Probabilities:\", preds[0])\n",
    "print(\"Predicted Digit:\", predicted_digit[0])"
   ]
  },
  {
   "cell_type": "code",
   "execution_count": null,
   "metadata": {},
   "outputs": [],
   "source": [
    "# SCENARIO_18\n",
    " #Predict the uploaded image\n",
    "image_path = \"8.jpeg\"\n",
    "processed_image = preprocess_custom_image(image_path)\n",
    "preds = model_9.predict(processed_image)\n",
    "predicted_digit = np.argmax(preds, axis=1)\n",
    "\n",
    "# Display the processed image and prediction result\n",
    "plt.imshow(processed_image.reshape((28, 28)), cmap=\"gray\")\n",
    "plt.title(f\"Predicted Digit: {predicted_digit[0]}\")\n",
    "plt.axis(\"off\")\n",
    "plt.show()\n",
    "\n",
    "print(\"Predicted Probabilities:\", preds[0])\n",
    "print(\"Predicted Digit:\", predicted_digit[0])"
   ]
  },
  {
   "cell_type": "code",
   "execution_count": null,
   "metadata": {},
   "outputs": [],
   "source": [
    "# SCENARIO_19\n",
    " #Predict the uploaded image\n",
    "image_path = \"8.jpeg\"\n",
    "processed_image = preprocess_custom_image(image_path)\n",
    "preds = model_10.predict(processed_image)\n",
    "predicted_digit = np.argmax(preds, axis=1)\n",
    "\n",
    "# Display the processed image and prediction result\n",
    "plt.imshow(processed_image.reshape((28, 28)), cmap=\"gray\")\n",
    "plt.title(f\"Predicted Digit: {predicted_digit[0]}\")\n",
    "plt.axis(\"off\")\n",
    "plt.show()\n",
    "\n",
    "print(\"Predicted Probabilities:\", preds[0])\n",
    "print(\"Predicted Digit:\", predicted_digit[0])"
   ]
  },
  {
   "cell_type": "code",
   "execution_count": null,
   "metadata": {},
   "outputs": [],
   "source": [
    "# SCENARIO_20\n",
    " #Predict the uploaded image\n",
    "image_path = \"8.jpeg\"\n",
    "processed_image = preprocess_custom_image(image_path)\n",
    "preds = model_10.predict(processed_image)\n",
    "predicted_digit = np.argmax(preds, axis=1)\n",
    "\n",
    "# Display the processed image and prediction result\n",
    "plt.imshow(processed_image.reshape((28, 28)), cmap=\"gray\")\n",
    "plt.title(f\"Predicted Digit: {predicted_digit[0]}\")\n",
    "plt.axis(\"off\")\n",
    "plt.show()\n",
    "\n",
    "print(\"Predicted Probabilities:\", preds[0])\n",
    "print(\"Predicted Digit:\", predicted_digit[0])"
   ]
  },
  {
   "cell_type": "code",
   "execution_count": null,
   "metadata": {},
   "outputs": [],
   "source": [
    "# SCENARIO_21\n",
    " #Predict the uploaded image\n",
    "image_path = \"8.jpeg\"\n",
    "processed_image = preprocess_custom_image(image_path)\n",
    "preds = model_11.predict(processed_image)\n",
    "predicted_digit = np.argmax(preds, axis=1)\n",
    "\n",
    "# Display the processed image and prediction result\n",
    "plt.imshow(processed_image.reshape((28, 28)), cmap=\"gray\")\n",
    "plt.title(f\"Predicted Digit: {predicted_digit[0]}\")\n",
    "plt.axis(\"off\")\n",
    "plt.show()\n",
    "\n",
    "print(\"Predicted Probabilities:\", preds[0])\n",
    "print(\"Predicted Digit:\", predicted_digit[0])"
   ]
  },
  {
   "cell_type": "code",
   "execution_count": null,
   "metadata": {},
   "outputs": [],
   "source": [
    "# SCENARIO_22\n",
    " #Predict the uploaded image\n",
    "image_path = \"8.jpeg\"\n",
    "processed_image = preprocess_custom_image(image_path)\n",
    "preds = model_11.predict(processed_image)\n",
    "predicted_digit = np.argmax(preds, axis=1)\n",
    "\n",
    "# Display the processed image and prediction result\n",
    "plt.imshow(processed_image.reshape((28, 28)), cmap=\"gray\")\n",
    "plt.title(f\"Predicted Digit: {predicted_digit[0]}\")\n",
    "plt.axis(\"off\")\n",
    "plt.show()\n",
    "\n",
    "print(\"Predicted Probabilities:\", preds[0])\n",
    "print(\"Predicted Digit:\", predicted_digit[0])"
   ]
  },
  {
   "cell_type": "code",
   "execution_count": null,
   "metadata": {
    "id": "hDvCAmQBzysv"
   },
   "outputs": [],
   "source": [
    "# SCENARIO_23\n",
    " #Predict the uploaded image\n",
    "image_path = \"8.jpeg\"\n",
    "processed_image = preprocess_custom_image(image_path)\n",
    "preds = model_12.predict(processed_image)\n",
    "predicted_digit = np.argmax(preds, axis=1)\n",
    "\n",
    "# Display the processed image and prediction result\n",
    "plt.imshow(processed_image.reshape((28, 28)), cmap=\"gray\")\n",
    "plt.title(f\"Predicted Digit: {predicted_digit[0]}\")\n",
    "plt.axis(\"off\")\n",
    "plt.show()\n",
    "\n",
    "print(\"Predicted Probabilities:\", preds[0])\n",
    "print(\"Predicted Digit:\", predicted_digit[0])"
   ]
  },
  {
   "cell_type": "code",
   "execution_count": null,
   "metadata": {},
   "outputs": [],
   "source": [
    "# SCENARIO_24\n",
    " #Predict the uploaded image\n",
    "image_path = \"8.jpeg\"\n",
    "processed_image = preprocess_custom_image(image_path)\n",
    "preds = model_12.predict(processed_image)\n",
    "predicted_digit = np.argmax(preds, axis=1)\n",
    "\n",
    "# Display the processed image and prediction result\n",
    "plt.imshow(processed_image.reshape((28, 28)), cmap=\"gray\")\n",
    "plt.title(f\"Predicted Digit: {predicted_digit[0]}\")\n",
    "plt.axis(\"off\")\n",
    "plt.show()\n",
    "\n",
    "print(\"Predicted Probabilities:\", preds[0])\n",
    "print(\"Predicted Digit:\", predicted_digit[0])"
   ]
  },
  {
   "cell_type": "code",
   "execution_count": null,
   "metadata": {},
   "outputs": [],
   "source": []
  },
  {
   "cell_type": "code",
   "execution_count": null,
   "metadata": {},
   "outputs": [],
   "source": []
  }
 ],
 "metadata": {
  "colab": {
   "provenance": []
  },
  "kernelspec": {
   "display_name": "Python [conda env:base] *",
   "language": "python",
   "name": "conda-base-py"
  },
  "language_info": {
   "codemirror_mode": {
    "name": "ipython",
    "version": 3
   },
   "file_extension": ".py",
   "mimetype": "text/x-python",
   "name": "python",
   "nbconvert_exporter": "python",
   "pygments_lexer": "ipython3",
   "version": "3.10.9"
  }
 },
 "nbformat": 4,
 "nbformat_minor": 4
}
